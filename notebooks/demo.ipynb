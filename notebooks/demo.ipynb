{
 "cells": [
  {
   "cell_type": "code",
   "execution_count": null,
   "metadata": {},
   "outputs": [],
   "source": [
    "# Demo: Train NestedMorph for Image Registration\n",
    "\n",
    "# This notebook runs training for the `NestedMorph` model using paired `.pkl` image files (T1 and DWI).  \n",
    "# Make sure the filenames in both folders have the same patient ID prefix.\n",
    "\n",
    "# Outputs:\n",
    "# - Model checkpoints → `experiments/`\n",
    "# - Logs and curves → `logs/`\n"
   ]
  },
  {
   "cell_type": "code",
   "execution_count": null,
   "metadata": {},
   "outputs": [],
   "source": [
    "# Set paths and training configuration\n",
    "t1_dir = \"/path/to/t1_data/\"       # e.g., \"./data/t1/\"\n",
    "dwi_dir = \"/path/to/dwi_data/\"     # e.g., \"./data/dwi/\"\n",
    "\n",
    "model_label = \"NestedMorph\"\n",
    "\n",
    "# Optional config\n",
    "epochs = 300\n",
    "img_size = \"64,64,64\"\n",
    "lr = 0.0001\n",
    "batch_size = 4\n",
    "cont_training = False\n"
   ]
  },
  {
   "cell_type": "code",
   "execution_count": null,
   "metadata": {},
   "outputs": [],
   "source": [
    "import sys\n",
    "\n",
    "sys.argv = [\"train.py\",\n",
    "            \"--t1_dir\", t1_dir,\n",
    "            \"--dwi_dir\", dwi_dir,\n",
    "            \"--model_label\", model_label,\n",
    "            \"--epochs\", str(epochs),\n",
    "            \"--img_size\", img_size,\n",
    "            \"--lr\", str(lr),\n",
    "            \"--batch_size\", str(batch_size)]\n",
    "\n",
    "if not cont_training:\n",
    "    sys.argv.append(\"--cont_training\")\n"
   ]
  },
  {
   "cell_type": "code",
   "execution_count": null,
   "metadata": {},
   "outputs": [],
   "source": [
    "from scripts.train import train_model\n",
    "from scripts.train_cyclemorph import train_model as train_cyclemorph\n",
    "from src.utils.config import device\n",
    "import argparse\n",
    "\n",
    "def parse_args():\n",
    "    parser = argparse.ArgumentParser()\n",
    "    parser.add_argument('--t1_dir', type=str, required=True)\n",
    "    parser.add_argument('--dwi_dir', type=str, required=True)\n",
    "    parser.add_argument('--model_label', type=str, required=True)\n",
    "    parser.add_argument('--epochs', type=int, default=500)\n",
    "    parser.add_argument('--img_size', type=str, default=\"64,64,64\")\n",
    "    parser.add_argument('--lr', type=float, default=0.0001)\n",
    "    parser.add_argument('--batch_size', type=int, default=4)\n",
    "    parser.add_argument('--cont_training', action='store_false')\n",
    "    return parser.parse_args()\n",
    "\n",
    "args = parse_args()\n",
    "\n",
    "# Choose correct training function\n",
    "train_fn = train_cyclemorph if args.model_label.lower() == \"cyclemorph\" else train_model\n",
    "\n",
    "# Run training\n",
    "train_fn(\n",
    "    t1_dir=args.t1_dir,\n",
    "    dwi_dir=args.dwi_dir,\n",
    "    model_label=args.model_label,\n",
    "    epochs=args.epochs,\n",
    "    img_size=args.img_size,\n",
    "    lr=args.lr,\n",
    "    batch_size=args.batch_size,\n",
    "    cont_training=args.cont_training,\n",
    "    device=device\n",
    ")\n"
   ]
  },
  {
   "cell_type": "code",
   "execution_count": null,
   "metadata": {},
   "outputs": [],
   "source": []
  }
 ],
 "metadata": {
  "language_info": {
   "name": "python"
  }
 },
 "nbformat": 4,
 "nbformat_minor": 2
}
